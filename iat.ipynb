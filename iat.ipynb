{
 "cells": [
  {
   "cell_type": "code",
   "execution_count": 1,
   "metadata": {},
   "outputs": [],
   "source": [
    "import requests\n",
    "import os"
   ]
  },
  {
   "cell_type": "code",
   "execution_count": 2,
   "metadata": {},
   "outputs": [],
   "source": [
    "API_TOKEN = 'rnd_q1EQhaTBLWMKwwP8vo5pZfk2I1nW'\n",
    "BLUEPRINT_FILE_PATH = \"/work/render.yaml\"\n",
    "API_BASE_URL = \"https://api.render.com/v1\""
   ]
  },
  {
   "cell_type": "code",
   "execution_count": null,
   "metadata": {},
   "outputs": [
    {
     "name": "stdout",
     "output_type": "stream",
     "text": [
      "Failed to upload blueprint: \n"
     ]
    }
   ],
   "source": [
    "url = f\"{API_BASE_URL}/blueprints\"\n",
    "headers = {\n",
    "    \"Authorization\": f\"Bearer {API_TOKEN}\",\n",
    "    \"Accept\": \"application/json\"\n",
    "}\n",
    "with open(BLUEPRINT_FILE_PATH, \"r\") as file:\n",
    "    blueprint_data = file.read()\n",
    "\n",
    "response = requests.post(url, headers=headers, json={\"blueprint\": blueprint_data})\n",
    "if response.status_code == 201:\n",
    "    blueprint_id = response.json()[\"id\"]\n",
    "    print(f\"Blueprint uploaded successfully. ID: {blueprint_id}\")\n",
    "else:\n",
    "    print(f\"Failed to upload blueprint: {response.text}\")"
   ]
  },
  {
   "cell_type": "code",
   "execution_count": null,
   "metadata": {},
   "outputs": [],
   "source": [
    "headers = {\n",
    "    \"Authorization\": f\"Bearer {API_TOKEN}\",\n",
    "    \"Accept\": \"application/json\"\n",
    "}\n",
    "\n",
    "url = 'https://api.render.com/v1/services?limit=20'\n",
    "response = requests.get(url, headers=headers)"
   ]
  },
  {
   "cell_type": "code",
   "execution_count": null,
   "metadata": {},
   "outputs": [],
   "source": [
    "url = f\"{API_BASE_URL}/blueprints/{blueprint_id}/apply\"\n",
    "headers = {\n",
    "    \"Authorization\": f\"Bearer {API_TOKEN}\",\n",
    "    \"Content-Type\": \"application/json\"\n",
    "}\n",
    "response = requests.post(url, headers=headers)\n",
    "if response.status_code == 200:\n",
    "    print(\"Blueprint applied successfully.\")\n",
    "    print(response.json())\n",
    "else:\n",
    "    print(f\"Failed to apply blueprint: {response.text}\")\n"
   ]
  }
 ],
 "metadata": {
  "kernelspec": {
   "display_name": "Python 3",
   "language": "python",
   "name": "python3"
  },
  "language_info": {
   "codemirror_mode": {
    "name": "ipython",
    "version": 3
   },
   "file_extension": ".py",
   "mimetype": "text/x-python",
   "name": "python",
   "nbconvert_exporter": "python",
   "pygments_lexer": "ipython3",
   "version": "3.12.7"
  }
 },
 "nbformat": 4,
 "nbformat_minor": 2
}
